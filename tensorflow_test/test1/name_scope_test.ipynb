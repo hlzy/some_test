{
 "cells": [
  {
   "cell_type": "code",
   "execution_count": 1,
   "metadata": {},
   "outputs": [],
   "source": [
    "import tensorflow as tf\n",
    "import numpy as np"
   ]
  },
  {
   "cell_type": "code",
   "execution_count": 4,
   "metadata": {},
   "outputs": [
    {
     "name": "stdout",
     "output_type": "stream",
     "text": [
      "123_2/456/789/a_1:0\n",
      "123_2/456/789/a:0\n"
     ]
    }
   ],
   "source": [
    "with tf.name_scope('123'):\n",
    "    with tf.name_scope('456'):\n",
    "        with tf.variable_scope('789'):\n",
    "            a = tf.Variable(1,name='a')\n",
    "            print a.name\n",
    "            b = tf.get_variable(name=\"b\",initializer=1)\n",
    "            print b.name\n",
    "    with tf.name_scope('456'):\n",
    "        with tf.variable_scope('789'):\n",
    "            c = tf.Variable(1,name='c')\n",
    "            print c.name\n",
    "            d = tf.get_variable(name=\"d\",initializer=1)\n",
    "            print d.name        \n",
    "\n"
   ]
  },
  {
   "cell_type": "code",
   "execution_count": 16,
   "metadata": {},
   "outputs": [
    {
     "name": "stdout",
     "output_type": "stream",
     "text": [
      "123_7_1/789/a:0\n",
      "123_7_1/789_1/c:0\n"
     ]
    }
   ],
   "source": [
    "with tf.name_scope('123_7'):\n",
    "    with tf.variable_scope('789'):\n",
    "            e = tf.Variable(1,name='a')\n",
    "            print e.name\n",
    "    with tf.variable_scope('789'):\n",
    "            c = tf.Variable(1,name='c')\n",
    "            print c.name"
   ]
  },
  {
   "cell_type": "markdown",
   "metadata": {},
   "source": []
  },
  {
   "cell_type": "code",
   "execution_count": null,
   "metadata": {},
   "outputs": [],
   "source": []
  }
 ],
 "metadata": {
  "kernelspec": {
   "display_name": "Python 2",
   "language": "python",
   "name": "python2"
  },
  "language_info": {
   "codemirror_mode": {
    "name": "ipython",
    "version": 2
   },
   "file_extension": ".py",
   "mimetype": "text/x-python",
   "name": "python",
   "nbconvert_exporter": "python",
   "pygments_lexer": "ipython2",
   "version": "2.7.12"
  }
 },
 "nbformat": 4,
 "nbformat_minor": 2
}
