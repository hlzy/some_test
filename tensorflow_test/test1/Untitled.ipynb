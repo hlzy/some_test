{
 "cells": [
  {
   "cell_type": "code",
   "execution_count": 1,
   "metadata": {},
   "outputs": [
    {
     "name": "stdout",
     "output_type": "stream",
     "text": [
      "<tf.Variable 'Variable:0' shape=(2, 4, 3) dtype=float32_ref>\n",
      "[<tf.Tensor 'unstack:0' shape=(2, 3) dtype=float32>, <tf.Tensor 'unstack:1' shape=(2, 3) dtype=float32>, <tf.Tensor 'unstack:2' shape=(2, 3) dtype=float32>, <tf.Tensor 'unstack:3' shape=(2, 3) dtype=float32>]\n",
      "WARNING:tensorflow:From <ipython-input-1-5c6859f07e7f>:15: __init__ (from tensorflow.python.ops.rnn_cell_impl) is deprecated and will be removed in a future version.\n",
      "Instructions for updating:\n",
      "This class is equivalent as tf.keras.layers.SimpleRNNCell, and will be replaced by that in Tensorflow 2.0.\n",
      "4\n",
      "Tensor(\"rnn/basic_rnn_cell/Tanh:0\", shape=(2, 5), dtype=float32)\n",
      "Tensor(\"rnn/basic_rnn_cell/Tanh_1:0\", shape=(2, 5), dtype=float32)\n",
      "Tensor(\"rnn/basic_rnn_cell/Tanh_3:0\", shape=(2, 5), dtype=float32)\n"
     ]
    }
   ],
   "source": [
    "import tensorflow as tf\n",
    " \n",
    " \n",
    " \n",
    "x=tf.Variable(tf.random_normal([2,4,3])) #[batch_size,timesteps,embedding_dim]\n",
    "\n",
    "print(x)\n",
    "x=tf.unstack(x,axis=1) #按时间步展开\n",
    " \n",
    "print(x)\n",
    "n_neurons = 5 #输出神经元数量\n",
    " \n",
    " \n",
    " \n",
    "basic_cell = tf.contrib.rnn.BasicRNNCell(num_units=n_neurons)\n",
    " \n",
    "output_seqs, states = tf.contrib.rnn.static_rnn(basic_cell,x, dtype=tf.float32)\n",
    " \n",
    " \n",
    " \n",
    "print(len(output_seqs)) #四个时间步\n",
    " \n",
    "print(output_seqs[0]) #每个时间步输出一个张量\n",
    " \n",
    "print(output_seqs[1]) #每个时间步输出一个张量\n",
    " \n",
    "print(states) #隐藏状态\n"
   ]
  },
  {
   "cell_type": "code",
   "execution_count": null,
   "metadata": {},
   "outputs": [],
   "source": []
  },
  {
   "cell_type": "code",
   "execution_count": null,
   "metadata": {},
   "outputs": [],
   "source": []
  }
 ],
 "metadata": {
  "kernelspec": {
   "display_name": "Python 2",
   "language": "python",
   "name": "python2"
  },
  "language_info": {
   "codemirror_mode": {
    "name": "ipython",
    "version": 2
   },
   "file_extension": ".py",
   "mimetype": "text/x-python",
   "name": "python",
   "nbconvert_exporter": "python",
   "pygments_lexer": "ipython2",
   "version": "2.7.12"
  }
 },
 "nbformat": 4,
 "nbformat_minor": 2
}
