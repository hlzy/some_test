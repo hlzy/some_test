{
 "cells": [
  {
   "cell_type": "code",
   "execution_count": 3,
   "metadata": {},
   "outputs": [],
   "source": [
    "import tensorflow as tf\n",
    "import numpy as np"
   ]
  },
  {
   "cell_type": "code",
   "execution_count": 9,
   "metadata": {},
   "outputs": [],
   "source": [
    "data_x = np.array([[0,0],[0,1],[1,0],[1,1]],dtype=np.float32)\n",
    "data_y = np.array([[0],[1],[1],[0]],dtype=np.float32)"
   ]
  },
  {
   "cell_type": "code",
   "execution_count": 6,
   "metadata": {},
   "outputs": [],
   "source": [
    "x = tf.placeholder(tf.float32,shape=[None,2],name='input')\n",
    "w1 = tf.Variable(tf.random_uniform([2,4],-1,1),name='w1')\n",
    "b1 = tf.Variable(tf.zeros(4,dtype=np.float32),name='b1')\n",
    "w2 = tf.Variable(tf.random_uniform([4,1],-1,1),name='w2')\n",
    "b2 = tf.Variable(tf.zeros(1,dtype=np.float32),name='b2')\n",
    "y = tf.placeholder(tf.float32,shape=[None,1],name='output')\n",
    "z1 = tf.sigmoid(tf.matmul(x,w1)+b1)\n",
    "z2 = tf.sigmoid(tf.matmul(z1,w2)+b2)\n",
    "loss=tf.nn.l2_loss(z2-y)\n",
    "opt = tf.train.GradientDescentOptimizer(0.05)\n",
    "train_op = opt.minimize(loss)"
   ]
  },
  {
   "cell_type": "code",
   "execution_count": 31,
   "metadata": {
    "scrolled": true
   },
   "outputs": [
    {
     "name": "stdout",
     "output_type": "stream",
     "text": [
      "0 loss= [0.50439954, None]\n",
      "[[-0.73339033  0.9333019   0.8838294   0.9742164 ]\n",
      " [ 0.6890396  -0.45273435  0.15522268 -0.806306  ]]\n",
      "1000 loss= [0.49914864, None]\n",
      "[[-0.7415917   0.7820928   0.88717324  0.9769878 ]\n",
      " [ 0.6846562  -0.47553328 -0.11208697 -0.8045873 ]]\n",
      "2000 loss= [0.495026, None]\n",
      "[[-0.76177675  0.7779411   0.9501099   0.99731076]\n",
      " [ 0.67430043 -0.70698446 -0.2965814  -0.7945441 ]]\n",
      "3000 loss= [0.47955593, None]\n",
      "[[-0.79913616  1.052095    1.1001599   1.0370246 ]\n",
      " [ 0.6705604  -1.2066892  -0.52176034 -0.78689915]]\n",
      "4000 loss= [0.40823883, None]\n",
      "[[-0.89145595  1.893031    1.4668812   1.1308938 ]\n",
      " [ 0.72675097 -2.1338944  -0.9726103  -0.82527655]]\n",
      "5000 loss= [0.22952883, None]\n",
      "[[-1.1344863  3.095024   2.2341774  1.32851  ]\n",
      " [ 1.0094812 -3.268392  -1.9038008 -1.0329036]]\n",
      "6000 loss= [0.09413818, None]\n",
      "[[-1.453791   3.9351604  2.972461   1.5182399]\n",
      " [ 1.3658881 -4.0301566 -2.734905  -1.2607607]]\n",
      "7000 loss= [0.046312798, None]\n",
      "[[-1.6966416  4.375435   3.391885   1.6327928]\n",
      " [ 1.6055942 -4.437979  -3.1876929 -1.3892779]]\n",
      "8000 loss= [0.027997838, None]\n",
      "[[-1.8665733  4.6314335  3.6390846  1.7046177]\n",
      " [ 1.7687619 -4.6795807 -3.451051  -1.4661175]]\n",
      "9000 loss= [0.019263703, None]\n",
      "[[-1.991437   4.801694   3.803619   1.7546941]\n",
      " [ 1.8886559 -4.8420258 -3.625051  -1.5182064]]\n"
     ]
    }
   ],
   "source": [
    "with tf.Session() as sess:\n",
    "    sess.run(tf.global_variables_initializer())\n",
    "    for iter in range(10000):\n",
    "        loss_val=sess.run([loss,train_op],feed_dict={x:data_x,y:data_y})\n",
    "        if iter % 1000 == 0:\n",
    "            print iter,\"loss=\",loss_val\n",
    "            print sess.run(w1)"
   ]
  },
  {
   "cell_type": "code",
   "execution_count": 33,
   "metadata": {},
   "outputs": [
    {
     "name": "stdout",
     "output_type": "stream",
     "text": [
      "w1_2:0\n",
      "b1_2:0\n"
     ]
    }
   ],
   "source": [
    "print w1.name\n",
    "print b1.name"
   ]
  },
  {
   "cell_type": "code",
   "execution_count": null,
   "metadata": {},
   "outputs": [],
   "source": []
  }
 ],
 "metadata": {
  "kernelspec": {
   "display_name": "Python 2",
   "language": "python",
   "name": "python2"
  },
  "language_info": {
   "codemirror_mode": {
    "name": "ipython",
    "version": 2
   },
   "file_extension": ".py",
   "mimetype": "text/x-python",
   "name": "python",
   "nbconvert_exporter": "python",
   "pygments_lexer": "ipython2",
   "version": "2.7.12"
  }
 },
 "nbformat": 4,
 "nbformat_minor": 2
}
